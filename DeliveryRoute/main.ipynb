{
 "cells": [
  {
   "attachments": {},
   "cell_type": "markdown",
   "metadata": {},
   "source": [
    "## **Data Preparation**"
   ]
  },
  {
   "cell_type": "code",
   "execution_count": 163,
   "metadata": {},
   "outputs": [
    {
     "name": "stderr",
     "output_type": "stream",
     "text": [
      "/var/folders/zn/20g6j7t91810cl_ts2h592y40000gn/T/ipykernel_53361/2486149103.py:4: FutureWarning: The default value of numeric_only in DataFrameGroupBy.mean is deprecated. In a future version, numeric_only will default to False. Either specify numeric_only or select only columns which should be valid for the function.\n",
      "  tambon_df=df.groupby('TA_ID').mean().join(df[['TA_ID','TAMBON_E']].set_index('TA_ID'))[['LAT','LONG','TAMBON_E']]\n"
     ]
    }
   ],
   "source": [
    "import pandas as pd \n",
    "\n",
    "df=pd.read_excel('https://data.go.th/dataset/5370f16a-b553-45ca-929d-7db9a6fc5043/resource/48039a2a-2f01-448c-b2a2-bb0d541dedcd/download/tambon.xlsx')\n",
    "tambon_df=df.groupby('TA_ID').mean().join(df[['TA_ID','TAMBON_E']].set_index('TA_ID'))[['LAT','LONG','TAMBON_E']]\n",
    "tambon_df.drop_duplicates(subset=['LAT','LONG'],inplace=True)\n",
    "tambon_df.to_csv('tambon_location.csv')"
   ]
  },
  {
   "attachments": {},
   "cell_type": "markdown",
   "metadata": {},
   "source": [
    "### Choose capacity and number of tambons"
   ]
  },
  {
   "cell_type": "code",
   "execution_count": 174,
   "metadata": {},
   "outputs": [],
   "source": [
    "capacity = 1000\n",
    "n = 100"
   ]
  },
  {
   "cell_type": "code",
   "execution_count": 175,
   "metadata": {},
   "outputs": [],
   "source": [
    "import random \n",
    "\n",
    "random.seed(31)\n",
    "\n",
    "tambons=list(tambon_df.index)\n",
    "random.shuffle(tambons)\n",
    "tambons=tambons[:n]\n",
    "tambons=[[tambon,(int(random.random()*6+5)*10)] for tambon in tambons]\n",
    "tambons[0][1]=0"
   ]
  },
  {
   "cell_type": "code",
   "execution_count": 176,
   "metadata": {},
   "outputs": [
    {
     "data": {
      "text/plain": [
       "[[330207, 0],\n",
       " [350306, 100],\n",
       " [810115, 90],\n",
       " [220906, 80],\n",
       " [140615, 60],\n",
       " [800502, 80],\n",
       " [600510, 60],\n",
       " [260310, 100],\n",
       " [670117, 70],\n",
       " [700110, 80],\n",
       " [310804, 80],\n",
       " [380204, 90],\n",
       " [250202, 90],\n",
       " [470301, 50],\n",
       " [810406, 70],\n",
       " [550502, 70],\n",
       " [551502, 90],\n",
       " [710503, 70],\n",
       " [140706, 70],\n",
       " [730602, 100],\n",
       " [230202, 70],\n",
       " [730104, 70],\n",
       " [841505, 70],\n",
       " [110104, 70],\n",
       " [341112, 90],\n",
       " [860112, 70],\n",
       " [700302, 50],\n",
       " [170107, 100],\n",
       " [451606, 100],\n",
       " [670701, 70],\n",
       " [340717, 70],\n",
       " [580408, 60],\n",
       " [342504, 80],\n",
       " [800204, 80],\n",
       " [471401, 60],\n",
       " [340104, 90],\n",
       " [810804, 80],\n",
       " [330910, 60],\n",
       " [450703, 70],\n",
       " [331501, 70],\n",
       " [600604, 100],\n",
       " [140101, 60],\n",
       " [650605, 100],\n",
       " [560301, 80],\n",
       " [940310, 90],\n",
       " [950302, 80],\n",
       " [480401, 70],\n",
       " [620607, 90],\n",
       " [900701, 60],\n",
       " [340406, 100],\n",
       " [380103, 80],\n",
       " [620602, 100],\n",
       " [320507, 50],\n",
       " [960201, 100],\n",
       " [720509, 100],\n",
       " [150105, 60],\n",
       " [550511, 50],\n",
       " [960901, 50],\n",
       " [700701, 80],\n",
       " [730615, 50],\n",
       " [460205, 50],\n",
       " [620117, 70],\n",
       " [810505, 60],\n",
       " [160614, 100],\n",
       " [200620, 50],\n",
       " [370606, 50],\n",
       " [610103, 60],\n",
       " [640711, 70],\n",
       " [801216, 90],\n",
       " [160318, 50],\n",
       " [250704, 50],\n",
       " [390405, 70],\n",
       " [841301, 60],\n",
       " [340911, 70],\n",
       " [400711, 60],\n",
       " [901508, 60],\n",
       " [103001, 60],\n",
       " [310207, 100],\n",
       " [660603, 80],\n",
       " [420204, 100],\n",
       " [560112, 100],\n",
       " [190208, 100],\n",
       " [601108, 100],\n",
       " [411810, 60],\n",
       " [820801, 90],\n",
       " [320715, 60],\n",
       " [720505, 80],\n",
       " [410117, 100],\n",
       " [412104, 100],\n",
       " [332001, 90],\n",
       " [301511, 60],\n",
       " [570405, 60],\n",
       " [130108, 90],\n",
       " [331302, 70],\n",
       " [770404, 50],\n",
       " [240703, 70],\n",
       " [920202, 60],\n",
       " [420103, 70],\n",
       " [620101, 60],\n",
       " [380306, 50]]"
      ]
     },
     "execution_count": 176,
     "metadata": {},
     "output_type": "execute_result"
    }
   ],
   "source": [
    "tambons"
   ]
  },
  {
   "attachments": {},
   "cell_type": "markdown",
   "metadata": {},
   "source": [
    "## **Your Tasks**\n",
    "\n",
    "Write a program which can create a route that a truck can deliver items to all places stored in `tambons` list. The number of items that the truck must deliver is the second element in the list. \n",
    "\n",
    "The truck has capacity as specified in the variable `capacity`. When it deliver all items, it must go back to the first location in the list to load the items and start deliver again. The process will repeatly be done until all items are delivered. \n",
    "\n",
    "For example, if the data in tambons are: \n",
    "\n",
    "```\n",
    "[[400109, 0],\n",
    " [730114, 90],\n",
    " [101602, 100],\n",
    " [320701, 100],\n",
    " [190112, 60],\n",
    " [330203, 50],\n",
    " [571701, 100]]\n",
    " ```\n",
    "\n",
    " The starting point is tambon `400109` and if the capacity is `300`. One route can be `[400109,101602,320701,571701,400109,730114,190112,330203,400109]` which means \n",
    "\n",
    " 1. load `300 (100+100+100)` items and deliver to `101602,320701,571701` respectively\n",
    " 2. go back to starting point `400109`\n",
    " 3. load `200 (90+60+50)` items and deliver to `730114,190112,330203`\n",
    " 4. go back to starting point \n",
    "\n"
   ]
  },
  {
   "attachments": {},
   "cell_type": "markdown",
   "metadata": {},
   "source": [
    " ### **Scoring scriteria** (from 50 marks)\n",
    "\n",
    " 1. Use only techniques and codes from the class (0 marks for codes from other resources)\n",
    " 2. Can find the route to all locations and total distance (in km.) (35 marks)\n",
    " 3. The route is shortest (40 marks) \n",
    " 4. Can find the route which follows the capacity criteria (not neccessary to be the shortest (45 marks)\n",
    " 5. Can find the shortest route which follow the capacity criteria (50 marks)"
   ]
  },
  {
   "attachments": {},
   "cell_type": "markdown",
   "metadata": {},
   "source": [
    "### Find km from lat and long \n",
    "\n",
    "```\n",
    "from geopy.distance import geodesic\n",
    "\n",
    "lat1, lon1 = 40.6892, -74.0445\n",
    "lat2, lon2 = 37.7749, -122.4194\n",
    "distance = geodesic((lat1, lon1), (lat2, lon2)).km\n",
    "```\n",
    "\n",
    "### Get lat and long from tambon_df \n",
    "\n",
    "```\n",
    "tambon_df.loc[tambon_id]\n",
    "```\n",
    "\n",
    "For example,\n",
    "```\n",
    "print(tambon_df.loc[571701])\n",
    "```"
   ]
  },
  {
   "attachments": {},
   "cell_type": "markdown",
   "metadata": {},
   "source": [
    "# Main"
   ]
  },
  {
   "cell_type": "code",
   "execution_count": 177,
   "metadata": {},
   "outputs": [],
   "source": [
    "from geopy.distance import geodesic"
   ]
  },
  {
   "cell_type": "code",
   "execution_count": 178,
   "metadata": {},
   "outputs": [],
   "source": [
    "class DeliveryRoute:\n",
    "    def __init__(self,n, capacity, tambons):\n",
    "        self.n = n\n",
    "        self.capacity = capacity\n",
    "        self.tambons = tambons\n",
    "        self.total_distance = 0\n",
    "        self.current_capacity = capacity\n",
    "        self.start_tambon = tambons[0][0]\n",
    "        self.visited_tambons = [tambons[0][0]]\n",
    "        self.unvisited_tambons = [tambon for tambon in tambons[1:]]\n",
    "\n",
    "    def get_distance(self, tambon1, tambon2):\n",
    "        lat1, long1 = tambon_df.loc[tambon1][['LAT','LONG']]\n",
    "        lat2, long2 = tambon_df.loc[tambon2][['LAT','LONG']]\n",
    "        # convert to float\n",
    "        lat1 = float(lat1)\n",
    "        long1 = float(long1)\n",
    "        lat2 = float(lat2)\n",
    "        long2 = float(long2)\n",
    "        return geodesic((float(lat1), float(long1)), (float(lat2), float(long2))).km\n",
    "    \n",
    "    def get_next_tambon_idx(self):\n",
    "        for idx in range(len(self.unvisited_tambons)):\n",
    "            load = self.unvisited_tambons[idx][1]\n",
    "            if self.current_capacity >= load:\n",
    "                return idx\n",
    "        return -1\n",
    "    \n",
    "    def find_route(self):\n",
    "        while True:\n",
    "            if len(self.visited_tambons) == 0:\n",
    "                print('No solution')\n",
    "                break\n",
    "            if len(self.unvisited_tambons) == 0:\n",
    "                print('Route found!!!')\n",
    "                distance = self.get_distance(self.visited_tambons[-1], self.start_tambon)\n",
    "                self.total_distance += distance\n",
    "                self.visited_tambons.append(self.start_tambon)\n",
    "                print('Total distance: ', self.total_distance)\n",
    "                print('Visited tambons: ', self.visited_tambons)\n",
    "                break\n",
    "            # Sort unvisited tambons by its load from high to low\n",
    "            self.unvisited_tambons = sorted(self.unvisited_tambons, key=lambda x: x[1], reverse=True)\n",
    "            next_tambon_idx = self.get_next_tambon_idx()\n",
    "            if next_tambon_idx == -1:\n",
    "                distance = self.get_distance(self.visited_tambons[-1], self.start_tambon)\n",
    "                self.total_distance += distance\n",
    "                self.current_capacity = self.capacity\n",
    "                self.visited_tambons.append(self.start_tambon)\n",
    "            else:\n",
    "                self.current_capacity -= self.unvisited_tambons[next_tambon_idx][1]\n",
    "                distance = self.get_distance(self.visited_tambons[-1], self.unvisited_tambons[next_tambon_idx][0])\n",
    "                self.total_distance += distance\n",
    "                self.visited_tambons.append(self.unvisited_tambons.pop(next_tambon_idx)[0])\n",
    "                \n",
    "                "
   ]
  },
  {
   "cell_type": "code",
   "execution_count": 179,
   "metadata": {},
   "outputs": [],
   "source": [
    "# This time find route with the shortest distance\n",
    "class ShortestDeliveryRoute(DeliveryRoute):\n",
    "    def get_next_tambon_idx(self):\n",
    "        min_distance = 100000000\n",
    "        min_idx = -1\n",
    "        for idx in range(len(self.unvisited_tambons)):\n",
    "            load = self.unvisited_tambons[idx][1]\n",
    "            if self.current_capacity >= load:\n",
    "                distance = self.get_distance(self.visited_tambons[-1], self.unvisited_tambons[idx][0])\n",
    "                if distance < min_distance:\n",
    "                    min_distance = distance\n",
    "                    min_idx = idx\n",
    "        return min_idx\n",
    "    def find_route(self):\n",
    "        while True:\n",
    "            if len(self.visited_tambons) == 0:\n",
    "                print('No solution')\n",
    "                break\n",
    "            if len(self.unvisited_tambons) == 0:\n",
    "                print('Route found!!!')\n",
    "                distance = self.get_distance(self.visited_tambons[-1], self.start_tambon)\n",
    "                self.total_distance += distance\n",
    "                self.visited_tambons.append(self.start_tambon)\n",
    "                print('Total distance: ', self.total_distance)\n",
    "                print('Visited tambons: ', self.visited_tambons)\n",
    "                break\n",
    "            # Sort unvisited tambons by its load from high to low\n",
    "            self.unvisited_tambons = sorted(self.unvisited_tambons, key=lambda x: x[1], reverse=True)\n",
    "            next_tambon_idx = self.get_next_tambon_idx()\n",
    "            if next_tambon_idx == -1:\n",
    "                distance = self.get_distance(self.visited_tambons[-1], self.start_tambon)\n",
    "                self.total_distance += distance\n",
    "                self.current_capacity = self.capacity\n",
    "                self.visited_tambons.append(self.start_tambon)\n",
    "            else:\n",
    "                self.current_capacity -= self.unvisited_tambons[next_tambon_idx][1]\n",
    "                distance = self.get_distance(self.visited_tambons[-1], self.unvisited_tambons[next_tambon_idx][0])\n",
    "                self.total_distance += distance\n",
    "                self.visited_tambons.append(self.unvisited_tambons.pop(next_tambon_idx)[0])\n",
    "            \n",
    "    "
   ]
  },
  {
   "cell_type": "code",
   "execution_count": 180,
   "metadata": {},
   "outputs": [
    {
     "name": "stdout",
     "output_type": "stream",
     "text": [
      "Route found!!!\n",
      "Total distance:  56196.89009382384\n",
      "Visited tambons:  [330207, 350306, 260310, 730602, 170107, 451606, 600604, 650605, 340406, 620602, 960201, 330207, 720509, 160614, 310207, 420204, 560112, 190208, 601108, 410117, 412104, 810115, 330207, 380204, 250202, 551502, 341112, 340104, 940310, 620607, 801216, 820801, 332001, 130108, 330207, 220906, 800502, 700110, 310804, 342504, 800204, 810804, 560301, 950302, 380103, 700701, 660603, 330207, 720505, 670117, 810406, 550502, 710503, 140706, 230202, 730104, 841505, 110104, 860112, 670701, 340717, 450703, 330207, 331501, 480401, 620117, 640711, 390405, 340911, 331302, 240703, 420103, 140615, 600510, 580408, 471401, 330910, 140101, 330207, 900701, 150105, 810505, 610103, 841301, 400711, 901508, 103001, 411810, 320715, 301511, 570405, 920202, 620101, 470301, 700302, 320507, 330207, 550511, 960901, 730615, 460205, 200620, 370606, 160318, 250704, 770404, 380306, 330207]\n"
     ]
    }
   ],
   "source": [
    "deliverRoute = DeliveryRoute(n, capacity, tambons)\n",
    "deliverRoute.find_route()"
   ]
  },
  {
   "attachments": {},
   "cell_type": "markdown",
   "metadata": {},
   "source": [
    "[400109,101602,320701,571701,400109,730114,190112,330203,400109] "
   ]
  },
  {
   "cell_type": "code",
   "execution_count": 181,
   "metadata": {},
   "outputs": [
    {
     "name": "stdout",
     "output_type": "stream",
     "text": [
      "Route found!!!\n",
      "Total distance:  14771.032173123831\n",
      "Visited tambons:  [330207, 340406, 340104, 341112, 342504, 340717, 331302, 331501, 332001, 330910, 320715, 370606, 350306, 450703, 330207, 340911, 320507, 310804, 310207, 301511, 250202, 250704, 240703, 200620, 110104, 103001, 130108, 140615, 140101, 330207, 451606, 460205, 470301, 471401, 480401, 380204, 380306, 380103, 410117, 412104, 400711, 390405, 420204, 330207, 670701, 670117, 660603, 600510, 600604, 601108, 610103, 160614, 160318, 170107, 720505, 720509, 330207, 411810, 420103, 650605, 640711, 620602, 620607, 620101, 620117, 150105, 140706, 190208, 260310, 730615, 330207, 220906, 230202, 730602, 730104, 700701, 700110, 710503, 700302, 770404, 860112, 841301, 841505, 800502, 810406, 330207, 550511, 551502, 550502, 560301, 570405, 560112, 580408, 820801, 810505, 810115, 810804, 920202, 900701, 960901, 330207, 800204, 801216, 901508, 940310, 950302, 960201, 330207]\n"
     ]
    }
   ],
   "source": [
    "ShortestDeliveryRoute(n, capacity, tambons).find_route()"
   ]
  },
  {
   "cell_type": "code",
   "execution_count": null,
   "metadata": {},
   "outputs": [],
   "source": []
  }
 ],
 "metadata": {
  "kernelspec": {
   "display_name": "sukree",
   "language": "python",
   "name": "python3"
  },
  "language_info": {
   "codemirror_mode": {
    "name": "ipython",
    "version": 3
   },
   "file_extension": ".py",
   "mimetype": "text/x-python",
   "name": "python",
   "nbconvert_exporter": "python",
   "pygments_lexer": "ipython3",
   "version": "3.8.16"
  },
  "orig_nbformat": 4,
  "vscode": {
   "interpreter": {
    "hash": "800950dacaba69b7ba7febc0915928438af0f6aae0b81f524f98498f5e04988d"
   }
  }
 },
 "nbformat": 4,
 "nbformat_minor": 2
}
