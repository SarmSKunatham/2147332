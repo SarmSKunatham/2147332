{
 "cells": [
  {
   "attachments": {},
   "cell_type": "markdown",
   "metadata": {},
   "source": [
    "# 24 Games\n"
   ]
  },
  {
   "attachments": {},
   "cell_type": "markdown",
   "metadata": {},
   "source": [
    "## Task #1\n",
    "\n",
    "Start with ordinary game\n",
    "\n",
    "- start with four integers and all of them must be used\n",
    "- standard operations (+, -, *, /)\n",
    "- state space / any other techniques\n",
    "\n",
    "[a, b, c, d] => [24]\n",
    "\n",
    "## Task #2\n",
    "\n",
    "Start with ordinary game\n",
    "\n",
    "- start with four integers and only some of them can be used\n",
    "- standard operations (+, -, *, /)\n",
    "- state space / any other techniques\n",
    "\n",
    "## Task #3\n",
    "\n",
    "Start with ordinary game\n",
    "\n",
    "- start with 20 integers and any of them can be used\n",
    "- target can be any number other than 24\n",
    "- standard operations (+, -, *, /)\n",
    "- state space / any other techniques"
   ]
  },
  {
   "cell_type": "code",
   "execution_count": 54,
   "metadata": {},
   "outputs": [],
   "source": [
    "class Game24:\n",
    "    def __init__(self, start_state, target = 24 ):\n",
    "        self.start_state = start_state\n",
    "        self.start_node = (start_state, [])\n",
    "        self.current_node = start_state\n",
    "        self.fringe = [self.start_node]\n",
    "        self.target = target\n",
    "    \n",
    "    def is_goal_with_all_inputs(self, current_node):\n",
    "        '''Check if the current node is the goal state and all inputs are used'''\n",
    "        current_state = current_node[0]\n",
    "        return current_state == [24]\n",
    "\n",
    "    def is_goal_with_some_inputs(self, current_node):\n",
    "        '''Check if the current node is the goal state and all inputs are used'''\n",
    "        current_state = current_node[0]\n",
    "        if 24 in current_state:\n",
    "            return True\n",
    "    \n",
    "    def is_goal_with_target_inputs(self, current_node):\n",
    "        '''Check if the current node is the goal state and all inputs are used'''\n",
    "        current_state = current_node[0]\n",
    "        if self.target in current_state:\n",
    "            return True\n",
    "\n",
    "    def gen_successors(self, current_node):\n",
    "        '''Generate all possible successors of the current node'''\n",
    "        children = []\n",
    "        current_state = current_node[0]\n",
    "        current_solution = current_node[1]\n",
    "        for i in range(len(current_state) - 1):\n",
    "            for j in range(i + 1, len(current_state)):\n",
    "                # i, j => 01 02 03 12 13 23 combinations of remaining numbers\n",
    "                operand1 = current_state[i]\n",
    "                operand2 = current_state[j]\n",
    "                # Cut out the two operands\n",
    "                remaining_operands = current_state[:i] + current_state[i + 1: j] + current_state[j + 1:]\n",
    "\n",
    "                # Addition : +\n",
    "                children.append((remaining_operands + [operand1 + operand2], current_solution + [str(operand1) + ' + ' + str(operand2) + ' = ' + str(operand1 + operand2)]))\n",
    "                # Subtraction : -  (a - b) and (b - a)\n",
    "                children.append((remaining_operands + [operand1 - operand2], current_solution + [str(operand1) + ' - ' + str(operand2) + ' = ' + str(operand1 - operand2)]))\n",
    "                children.append((remaining_operands + [operand2 - operand1], current_solution + [str(operand2) + ' - ' + str(operand1) + ' = ' + str(operand1 - operand2)]))\n",
    "                # Multiplication : *\n",
    "                children.append((remaining_operands + [operand1 * operand2], current_solution + [str(operand1) + ' * ' + str(operand2) + ' = ' + str(operand1 * operand2)]))\n",
    "                # Division : /  (a / b) and (b / a)\n",
    "                if operand2 != 0:\n",
    "                    children.append((remaining_operands + [operand1 / operand2], current_solution + [str(operand1) + ' / ' + str(operand2) + ' = ' + str(operand1 / operand2)]))\n",
    "                if operand1 != 0:\n",
    "                    children.append((remaining_operands + [operand2 / operand1], current_solution + [str(operand2) + ' / ' + str(operand1) + ' = ' + str(operand2 / operand1)]))\n",
    "        return children\n",
    "    \n",
    "    def insert_children_front(self, node):\n",
    "        '''Insert children into fringe at the front'''\n",
    "        children = self.gen_successors(node)\n",
    "        for child in children:\n",
    "            self.fringe[0:0] = [child]\n",
    "    \n",
    "    def insert_children_back(self, node):\n",
    "        '''Insert children into fringe at the back'''\n",
    "        children = self.gen_successors(node)\n",
    "        for child in children:\n",
    "            self.fringe.append(child)\n",
    "    \n",
    "    def show_solution(self, node):\n",
    "        '''Show the solution'''\n",
    "        print(node)\n",
    "\n",
    "    def task1_game_dfs(self):\n",
    "        '''DFS'''\n",
    "        print('Task 1 with DFS')\n",
    "        print('Initial State: ', self.start_node)\n",
    "        while True:\n",
    "            if len(self.fringe) == 0:\n",
    "                print('No solution')\n",
    "                break\n",
    "            self.current_node = self.fringe.pop(0)\n",
    "            if self.is_goal_with_all_inputs(self.current_node):\n",
    "                self.show_solution(self.current_node)\n",
    "                return True\n",
    "            self.insert_children_front(self.current_node)\n",
    "\n",
    "    def task1_game_bfs(self):\n",
    "        '''BFS'''\n",
    "        print('Task 1 with BFS')\n",
    "        print('Initial State: ', self.start_node)\n",
    "        while True:\n",
    "            if len(self.fringe) == 0:\n",
    "                print('No solution')\n",
    "                break\n",
    "            self.current_node = self.fringe.pop(0)\n",
    "            if self.is_goal_with_all_inputs(self.current_node):\n",
    "                self.show_solution(self.current_node)\n",
    "                return True\n",
    "            self.insert_children_back(self.current_node)\n",
    "\n",
    "    def task2_game_dfs(self):\n",
    "        '''DFS'''\n",
    "        print('Task 2 with DFS')\n",
    "        print('Initial State: ', self.start_node)\n",
    "        while True:\n",
    "            if len(self.fringe) == 0:\n",
    "                print('No solution')\n",
    "                break\n",
    "            self.current_node = self.fringe.pop(0)\n",
    "            if self.is_goal_with_some_inputs(self.current_node):\n",
    "                self.show_solution(self.current_node)\n",
    "                return True\n",
    "            self.insert_children_front(self.current_node)\n",
    "\n",
    "    def task2_game_bfs(self):\n",
    "        '''BFS'''\n",
    "        print('Task 2 with BFS')\n",
    "        print('Initial State: ', self.start_node)\n",
    "        while True:\n",
    "            if len(self.fringe) == 0:\n",
    "                print('No solution')\n",
    "                break\n",
    "            self.current_node = self.fringe.pop(0)\n",
    "            if self.is_goal_with_some_inputs(self.current_node):\n",
    "                self.show_solution(self.current_node)\n",
    "                return True\n",
    "            self.insert_children_back(self.current_node)\n",
    "\n",
    "    def task3_game_dfs(self):\n",
    "        '''DFS'''\n",
    "        print('Task 3 with DFS')\n",
    "        print('Initial State: ', self.start_node)\n",
    "        while True:\n",
    "            if len(self.fringe) == 0:\n",
    "                print('No solution')\n",
    "                break\n",
    "            self.current_node = self.fringe.pop(0)\n",
    "            if self.is_goal_with_target_inputs(self.current_node):\n",
    "                self.show_solution(self.current_node)\n",
    "                return True\n",
    "            self.insert_children_front(self.current_node)\n",
    "\n",
    "    def task3_game_bfs(self):\n",
    "        '''BFS'''\n",
    "        print('Task 3 with BFS')\n",
    "        print('Initial State: ', self.start_node)\n",
    "        while True:\n",
    "            if len(self.fringe) == 0:\n",
    "                print('No solution')\n",
    "                break\n",
    "            self.current_node = self.fringe.pop(0)\n",
    "            if self.is_goal_with_target_inputs(self.current_node):\n",
    "                self.show_solution(self.current_node)\n",
    "                return True\n",
    "            self.insert_children_back(self.current_node)\n",
    "\n"
   ]
  },
  {
   "attachments": {},
   "cell_type": "markdown",
   "metadata": {},
   "source": [
    "### Result"
   ]
  },
  {
   "cell_type": "code",
   "execution_count": 48,
   "metadata": {},
   "outputs": [],
   "source": [
    "start_state = [5,8,2,3]"
   ]
  },
  {
   "attachments": {},
   "cell_type": "markdown",
   "metadata": {},
   "source": [
    "#### Task 1"
   ]
  },
  {
   "cell_type": "code",
   "execution_count": 49,
   "metadata": {},
   "outputs": [
    {
     "name": "stdout",
     "output_type": "stream",
     "text": [
      "Task 1 with DFS\n",
      "Initial State:  ([5, 8, 2, 3], [])\n",
      "([24], ['8 * 2 = 16', '3 + 16 = 19', '5 + 19 = 24'])\n",
      "CPU times: user 2.18 ms, sys: 3 µs, total: 2.19 ms\n",
      "Wall time: 2.18 ms\n"
     ]
    },
    {
     "data": {
      "text/plain": [
       "True"
      ]
     },
     "execution_count": 49,
     "metadata": {},
     "output_type": "execute_result"
    }
   ],
   "source": [
    "%%time\n",
    "Game24(start_state).task1_game_dfs()"
   ]
  },
  {
   "cell_type": "code",
   "execution_count": 50,
   "metadata": {},
   "outputs": [
    {
     "name": "stdout",
     "output_type": "stream",
     "text": [
      "Task 1 with BFS\n",
      "Initial State:  ([5, 8, 2, 3], [])\n",
      "([24], ['5 + 3 = 8', '8 * 2 = 16', '8 + 16 = 24'])\n",
      "CPU times: user 5.45 ms, sys: 172 µs, total: 5.62 ms\n",
      "Wall time: 5.73 ms\n"
     ]
    },
    {
     "data": {
      "text/plain": [
       "True"
      ]
     },
     "execution_count": 50,
     "metadata": {},
     "output_type": "execute_result"
    }
   ],
   "source": [
    "%%time\n",
    "Game24(start_state).task1_game_bfs()"
   ]
  },
  {
   "attachments": {},
   "cell_type": "markdown",
   "metadata": {},
   "source": [
    "#### Task 2"
   ]
  },
  {
   "cell_type": "code",
   "execution_count": 51,
   "metadata": {},
   "outputs": [
    {
     "name": "stdout",
     "output_type": "stream",
     "text": [
      "Task 2 with DFS\n",
      "Initial State:  ([5, 8, 2, 3], [])\n",
      "([5, 2, 24], ['8 * 3 = 24'])\n",
      "CPU times: user 1.28 ms, sys: 12 µs, total: 1.29 ms\n",
      "Wall time: 1.29 ms\n"
     ]
    },
    {
     "data": {
      "text/plain": [
       "True"
      ]
     },
     "execution_count": 51,
     "metadata": {},
     "output_type": "execute_result"
    }
   ],
   "source": [
    "%%time\n",
    "Game24(start_state).task2_game_dfs()"
   ]
  },
  {
   "cell_type": "code",
   "execution_count": 52,
   "metadata": {},
   "outputs": [
    {
     "name": "stdout",
     "output_type": "stream",
     "text": [
      "Task 2 with BFS\n",
      "Initial State:  ([5, 8, 2, 3], [])\n",
      "([5, 2, 24], ['8 * 3 = 24'])\n",
      "CPU times: user 431 µs, sys: 3 µs, total: 434 µs\n",
      "Wall time: 434 µs\n"
     ]
    },
    {
     "data": {
      "text/plain": [
       "True"
      ]
     },
     "execution_count": 52,
     "metadata": {},
     "output_type": "execute_result"
    }
   ],
   "source": [
    "%%time\n",
    "Game24(start_state).task2_game_bfs()"
   ]
  },
  {
   "attachments": {},
   "cell_type": "markdown",
   "metadata": {},
   "source": [
    "#### Task3"
   ]
  },
  {
   "cell_type": "code",
   "execution_count": 63,
   "metadata": {},
   "outputs": [],
   "source": [
    "start_state = [1, 70, 71, 52, 72, 56, 15, 39, 67, 54, 6, 57, 14, 67, 99, 68, 94, 94, 82, 73]\n",
    "target = 74"
   ]
  },
  {
   "cell_type": "code",
   "execution_count": 64,
   "metadata": {},
   "outputs": [
    {
     "name": "stdout",
     "output_type": "stream",
     "text": [
      "Task 3 with DFS\n",
      "Initial State:  ([1, 70, 71, 52, 72, 56, 15, 39, 67, 54, 6, 57, 14, 67, 99, 68, 94, 94, 82, 73], [])\n",
      "([52, 74.0], ['73 / 82 = 0.8902439024390244', '0.8902439024390244 / 94 = 0.00947067981318111', '0.00947067981318111 / 94 = 0.00010075191290618203', '0.00010075191290618203 / 68 = 1.4816457780320888e-06', '1.4816457780320888e-06 / 99 = 1.49661189700211e-08', '1.49661189700211e-08 / 67 = 2.2337491000031493e-10', '2.2337491000031493e-10 / 14 = 1.595535071430821e-11', '1.595535071430821e-11 / 57 = 2.799184335843545e-13', '2.799184335843545e-13 / 6 = 4.665307226405909e-14', '4.665307226405909e-14 / 54 = 8.639457826677609e-16', '8.639457826677609e-16 / 67 = 1.2894713174145685e-17', '1.2894713174145685e-17 / 39 = 3.3063367113194065e-19', '3.3063367113194065e-19 / 15 = 2.2042244742129377e-20', '2.2042244742129377e-20 / 56 = 3.9361151325231033e-22', '3.9361151325231033e-22 - 72 = 72.0', '-72.0 - 71 = 143.0', '70 + -143.0 = -73.0', '1 - -73.0 = 74.0'])\n",
      "CPU times: user 2.85 s, sys: 11.1 ms, total: 2.86 s\n",
      "Wall time: 2.86 s\n"
     ]
    },
    {
     "data": {
      "text/plain": [
       "True"
      ]
     },
     "execution_count": 64,
     "metadata": {},
     "output_type": "execute_result"
    }
   ],
   "source": [
    "%%time\n",
    "Game24(start_state, target).task3_game_dfs()"
   ]
  },
  {
   "cell_type": "code",
   "execution_count": 65,
   "metadata": {},
   "outputs": [
    {
     "name": "stdout",
     "output_type": "stream",
     "text": [
      "Task 3 with BFS\n",
      "Initial State:  ([1, 70, 71, 52, 72, 56, 15, 39, 67, 54, 6, 57, 14, 67, 99, 68, 94, 94, 82, 73], [])\n",
      "([70, 71, 52, 72, 56, 15, 39, 67, 54, 6, 57, 14, 67, 99, 68, 94, 94, 82, 74], ['1 + 73 = 74'])\n",
      "CPU times: user 173 ms, sys: 8.65 ms, total: 182 ms\n",
      "Wall time: 181 ms\n"
     ]
    },
    {
     "data": {
      "text/plain": [
       "True"
      ]
     },
     "execution_count": 65,
     "metadata": {},
     "output_type": "execute_result"
    }
   ],
   "source": [
    "%%time\n",
    "Game24(start_state, target).task3_game_bfs()"
   ]
  },
  {
   "cell_type": "code",
   "execution_count": null,
   "metadata": {},
   "outputs": [],
   "source": []
  }
 ],
 "metadata": {
  "kernelspec": {
   "display_name": "sukree",
   "language": "python",
   "name": "python3"
  },
  "language_info": {
   "codemirror_mode": {
    "name": "ipython",
    "version": 3
   },
   "file_extension": ".py",
   "mimetype": "text/x-python",
   "name": "python",
   "nbconvert_exporter": "python",
   "pygments_lexer": "ipython3",
   "version": "3.8.16"
  },
  "orig_nbformat": 4,
  "vscode": {
   "interpreter": {
    "hash": "800950dacaba69b7ba7febc0915928438af0f6aae0b81f524f98498f5e04988d"
   }
  }
 },
 "nbformat": 4,
 "nbformat_minor": 2
}
